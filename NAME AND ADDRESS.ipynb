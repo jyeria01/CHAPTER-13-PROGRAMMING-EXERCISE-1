{
 "cells": [
  {
   "cell_type": "markdown",
   "id": "097e0f33",
   "metadata": {},
   "source": [
    "# Write a GUI program that displays your name and address when a button is clicked. \n",
    "# The program’s window should appear as the sketch on the left side of Figure 13-61 when it runs. \n",
    "# When the user clicks the Show Info button, the program should display your name and address, as shown in the sketch on the right of the figure."
   ]
  },
  {
   "cell_type": "markdown",
   "id": "86916df3",
   "metadata": {},
   "source": [
    "# ALGORITHM"
   ]
  },
  {
   "cell_type": "code",
   "execution_count": 1,
   "id": "4afc5b3a",
   "metadata": {},
   "outputs": [],
   "source": [
    "# Import the tkinter module\n",
    "# Define class for the GUI\n",
    "# Constructor\n",
    "# Create the main window\n",
    "# set the title\n",
    "# Create a strintVar to store information\n",
    "# Create the label to store the information\n",
    "# Create show information button\n",
    "# Create the quit button\n",
    "# Pack the widgets\n",
    "# Start the main loop\n",
    "# Update information when Show information button is clicked\n",
    "# StringVar with name and address\n",
    "# Creat instance of the name_and_address class"
   ]
  },
  {
   "cell_type": "code",
   "execution_count": 15,
   "id": "80c3d813",
   "metadata": {},
   "outputs": [],
   "source": [
    "# Import the tkinter module\n",
    "import tkinter\n",
    "\n",
    "# Define class for the GUI\n",
    "class Name_and_Address:\n",
    "\n",
    "    # Constructor\n",
    "    def __init__(self):\n",
    "\n",
    "    # Create the main window\n",
    "        self.main_window = tkinter.Tk()\n",
    "\n",
    "    # set the title\n",
    "        self.main_window.title('Personal Information')\n",
    "\n",
    "    # Create a stringVar to store information\n",
    "        self.info_var = tkinter.StringVar()\n",
    "    \n",
    "    # Create the label to dipslay the information\n",
    "    # I ASKED CHATGPT WITH FOR HELP WITH THIS PORTION AND IT PROVIDED THE FOLLOWING\n",
    "        self.info_label = tkinter.Label(self.main_window, textvariable=self.info_var, font=('Arial', 12))\n",
    "\n",
    "    # Create show information button\n",
    "        self.show_info_button = tkinter.Button(self.main_window, text='SHOW INFO', command=self.show_info)\n",
    "\n",
    "    # Create the quit button\n",
    "        self.quit_button = tkinter.Button(self.main_window, text='QUIT', command=self.main_window.destroy)\n",
    "\n",
    "    # Pack the widgets\n",
    "        self.info_label.pack(pady=20)\n",
    "        self.show_info_button.pack(side='left', padx=10)\n",
    "        self.quit_button.pack(side='right', padx=10)\n",
    "\n",
    "    # Start the main loop\n",
    "        tkinter.mainloop()\n",
    "\n",
    "    # Update information when Show information button is clicked\n",
    "    def show_info(self):\n",
    "\n",
    "    # StringVar with name and address\n",
    "        self.info_var.set('Santa Claus\\n123 Elf Road \\nNorth Pole, 88888')\n",
    "    \n",
    "# Create instance of the name_and_address class\n",
    "\n",
    "if __name__ == '__main__':\n",
    "    display_info_gui = Name_and_Address()"
   ]
  },
  {
   "cell_type": "code",
   "execution_count": null,
   "id": "93200581",
   "metadata": {},
   "outputs": [],
   "source": []
  }
 ],
 "metadata": {
  "kernelspec": {
   "display_name": "Python 3 (ipykernel)",
   "language": "python",
   "name": "python3"
  },
  "language_info": {
   "codemirror_mode": {
    "name": "ipython",
    "version": 3
   },
   "file_extension": ".py",
   "mimetype": "text/x-python",
   "name": "python",
   "nbconvert_exporter": "python",
   "pygments_lexer": "ipython3",
   "version": "3.11.4"
  }
 },
 "nbformat": 4,
 "nbformat_minor": 5
}
