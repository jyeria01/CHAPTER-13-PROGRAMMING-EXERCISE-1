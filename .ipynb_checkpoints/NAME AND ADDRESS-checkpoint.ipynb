{
 "cells": [
  {
   "cell_type": "markdown",
   "id": "cbb556db",
   "metadata": {},
   "source": [
    "# Write a GUI program that displays your name and address when a button is clicked. \n",
    "# The program’s window should appear as the sketch on the left side of Figure 13-61 when it runs. \n",
    "# When the user clicks the Show Info button, the program should display your name and address, as shown in the sketch on the right of the figure."
   ]
  },
  {
   "cell_type": "markdown",
   "id": "5d88fcfa",
   "metadata": {},
   "source": [
    "# ALGORITHM"
   ]
  },
  {
   "cell_type": "code",
   "execution_count": 1,
   "id": "e303cb55",
   "metadata": {},
   "outputs": [],
   "source": [
    "# Import the tkinter module\n",
    "# Define class for the GUI\n",
    "# Constructor\n",
    "# Create the main window\n",
    "# set the title\n",
    "# Create a strintVar to store information\n",
    "# Create the label to store the information\n",
    "# Create show information button\n",
    "# Create the quit button\n",
    "# Pack the widgets\n",
    "# Start the main loop\n",
    "# Update information when Show information button is clicked\n",
    "# StringVar with name and address\n",
    "# Creat instance of the name_and_address class"
   ]
  },
  {
   "cell_type": "code",
   "execution_count": 3,
   "id": "e7ff3beb",
   "metadata": {},
   "outputs": [
    {
     "ename": "RuntimeError",
     "evalue": "Too early to create variable: no default root window",
     "output_type": "error",
     "traceback": [
      "\u001b[1;31m---------------------------------------------------------------------------\u001b[0m",
      "\u001b[1;31mRuntimeError\u001b[0m                              Traceback (most recent call last)",
      "Cell \u001b[1;32mIn[3], line 5\u001b[0m\n\u001b[0;32m      2\u001b[0m \u001b[38;5;28;01mimport\u001b[39;00m \u001b[38;5;21;01mtkinter\u001b[39;00m\n\u001b[0;32m      4\u001b[0m \u001b[38;5;66;03m# Define class for the GUI\u001b[39;00m\n\u001b[1;32m----> 5\u001b[0m \u001b[38;5;28;01mclass\u001b[39;00m \u001b[38;5;21;01mName_and_Address\u001b[39;00m:\n\u001b[0;32m      6\u001b[0m \n\u001b[0;32m      7\u001b[0m     \u001b[38;5;66;03m# Constructor\u001b[39;00m\n\u001b[0;32m      8\u001b[0m     \u001b[38;5;28;01mdef\u001b[39;00m \u001b[38;5;21m__init__\u001b[39m(\u001b[38;5;28mself\u001b[39m):\n\u001b[0;32m      9\u001b[0m \n\u001b[0;32m     10\u001b[0m     \u001b[38;5;66;03m# Create the main window\u001b[39;00m\n\u001b[0;32m     11\u001b[0m         \u001b[38;5;28mself\u001b[39m\u001b[38;5;241m.\u001b[39mmain_window \u001b[38;5;241m=\u001b[39m tkinter\u001b[38;5;241m.\u001b[39mTk()\n",
      "Cell \u001b[1;32mIn[3], line 17\u001b[0m, in \u001b[0;36mName_and_Address\u001b[1;34m()\u001b[0m\n\u001b[0;32m     14\u001b[0m     \u001b[38;5;28mself\u001b[39m\u001b[38;5;241m.\u001b[39mmain_window\u001b[38;5;241m.\u001b[39mtitle(\u001b[38;5;124m'\u001b[39m\u001b[38;5;124mPersonal Information\u001b[39m\u001b[38;5;124m'\u001b[39m)\n\u001b[0;32m     16\u001b[0m \u001b[38;5;66;03m# Create a stringVar to store information\u001b[39;00m\n\u001b[1;32m---> 17\u001b[0m \u001b[38;5;28mself\u001b[39m\u001b[38;5;241m.\u001b[39minfo_var \u001b[38;5;241m=\u001b[39m tkinter\u001b[38;5;241m.\u001b[39mStringVar()\n\u001b[0;32m     19\u001b[0m \u001b[38;5;66;03m# Create the label to dipslay the information\u001b[39;00m\n\u001b[0;32m     20\u001b[0m \u001b[38;5;66;03m# I ASKED CHATGPT WITH FOR HELP WITH THIS PORTION AND IT PROVIDED THE FOLLOWING\u001b[39;00m\n\u001b[0;32m     21\u001b[0m \u001b[38;5;28mself\u001b[39m\u001b[38;5;241m.\u001b[39minfo_label \u001b[38;5;241m=\u001b[39m tkinter\u001b[38;5;241m.\u001b[39mLabel(\u001b[38;5;28mself\u001b[39m\u001b[38;5;241m.\u001b[39mmain_window, textvariable\u001b[38;5;241m=\u001b[39m\u001b[38;5;28mself\u001b[39m\u001b[38;5;241m.\u001b[39minfo_var, font\u001b[38;5;241m=\u001b[39m(\u001b[38;5;124m'\u001b[39m\u001b[38;5;124mArial\u001b[39m\u001b[38;5;124m'\u001b[39m, \u001b[38;5;241m12\u001b[39m))\n",
      "File \u001b[1;32m~\\AppData\\Local\\anaconda3\\Lib\\tkinter\\__init__.py:562\u001b[0m, in \u001b[0;36mStringVar.__init__\u001b[1;34m(self, master, value, name)\u001b[0m\n\u001b[0;32m    552\u001b[0m \u001b[38;5;28;01mdef\u001b[39;00m \u001b[38;5;21m__init__\u001b[39m(\u001b[38;5;28mself\u001b[39m, master\u001b[38;5;241m=\u001b[39m\u001b[38;5;28;01mNone\u001b[39;00m, value\u001b[38;5;241m=\u001b[39m\u001b[38;5;28;01mNone\u001b[39;00m, name\u001b[38;5;241m=\u001b[39m\u001b[38;5;28;01mNone\u001b[39;00m):\n\u001b[0;32m    553\u001b[0m \u001b[38;5;250m    \u001b[39m\u001b[38;5;124;03m\"\"\"Construct a string variable.\u001b[39;00m\n\u001b[0;32m    554\u001b[0m \n\u001b[0;32m    555\u001b[0m \u001b[38;5;124;03m    MASTER can be given as master widget.\u001b[39;00m\n\u001b[1;32m   (...)\u001b[0m\n\u001b[0;32m    560\u001b[0m \u001b[38;5;124;03m    then the existing value is retained.\u001b[39;00m\n\u001b[0;32m    561\u001b[0m \u001b[38;5;124;03m    \"\"\"\u001b[39;00m\n\u001b[1;32m--> 562\u001b[0m     Variable\u001b[38;5;241m.\u001b[39m\u001b[38;5;21m__init__\u001b[39m(\u001b[38;5;28mself\u001b[39m, master, value, name)\n",
      "File \u001b[1;32m~\\AppData\\Local\\anaconda3\\Lib\\tkinter\\__init__.py:393\u001b[0m, in \u001b[0;36mVariable.__init__\u001b[1;34m(self, master, value, name)\u001b[0m\n\u001b[0;32m    391\u001b[0m \u001b[38;5;28;01mglobal\u001b[39;00m _varnum\n\u001b[0;32m    392\u001b[0m \u001b[38;5;28;01mif\u001b[39;00m master \u001b[38;5;129;01mis\u001b[39;00m \u001b[38;5;28;01mNone\u001b[39;00m:\n\u001b[1;32m--> 393\u001b[0m     master \u001b[38;5;241m=\u001b[39m _get_default_root(\u001b[38;5;124m'\u001b[39m\u001b[38;5;124mcreate variable\u001b[39m\u001b[38;5;124m'\u001b[39m)\n\u001b[0;32m    394\u001b[0m \u001b[38;5;28mself\u001b[39m\u001b[38;5;241m.\u001b[39m_root \u001b[38;5;241m=\u001b[39m master\u001b[38;5;241m.\u001b[39m_root()\n\u001b[0;32m    395\u001b[0m \u001b[38;5;28mself\u001b[39m\u001b[38;5;241m.\u001b[39m_tk \u001b[38;5;241m=\u001b[39m master\u001b[38;5;241m.\u001b[39mtk\n",
      "File \u001b[1;32m~\\AppData\\Local\\anaconda3\\Lib\\tkinter\\__init__.py:319\u001b[0m, in \u001b[0;36m_get_default_root\u001b[1;34m(what)\u001b[0m\n\u001b[0;32m    317\u001b[0m \u001b[38;5;28;01mif\u001b[39;00m _default_root \u001b[38;5;129;01mis\u001b[39;00m \u001b[38;5;28;01mNone\u001b[39;00m:\n\u001b[0;32m    318\u001b[0m     \u001b[38;5;28;01mif\u001b[39;00m what:\n\u001b[1;32m--> 319\u001b[0m         \u001b[38;5;28;01mraise\u001b[39;00m \u001b[38;5;167;01mRuntimeError\u001b[39;00m(\u001b[38;5;124mf\u001b[39m\u001b[38;5;124m\"\u001b[39m\u001b[38;5;124mToo early to \u001b[39m\u001b[38;5;132;01m{\u001b[39;00mwhat\u001b[38;5;132;01m}\u001b[39;00m\u001b[38;5;124m: no default root window\u001b[39m\u001b[38;5;124m\"\u001b[39m)\n\u001b[0;32m    320\u001b[0m     root \u001b[38;5;241m=\u001b[39m Tk()\n\u001b[0;32m    321\u001b[0m     \u001b[38;5;28;01massert\u001b[39;00m _default_root \u001b[38;5;129;01mis\u001b[39;00m root\n",
      "\u001b[1;31mRuntimeError\u001b[0m: Too early to create variable: no default root window"
     ]
    }
   ],
   "source": [
    "# Import the tkinter module\n",
    "import tkinter\n",
    "\n",
    "# Define class for the GUI\n",
    "class Name_and_Address:\n",
    "\n",
    "    # Constructor\n",
    "    def __init__(self):\n",
    "\n",
    "    # Create the main window\n",
    "        self.main_window = tkinter.Tk()\n",
    "\n",
    "    # set the title\n",
    "        self.main_window.title('Personal Information')\n",
    "\n",
    "    # Create a stringVar to store information\n",
    "    self.info_var = tkinter.StringVar()\n",
    "    \n",
    "    # Create the label to dipslay the information\n",
    "    # I ASKED CHATGPT WITH FOR HELP WITH THIS PORTION AND IT PROVIDED THE FOLLOWING\n",
    "    self.info_label = tkinter.Label(self.main_window, textvariable=self.info_var, font=('Arial', 12))\n",
    "\n",
    "    # Create show information button\n",
    "\n",
    "\n",
    "    # Create the quit button\n",
    "\n",
    "\n",
    "    # Pack the widgets\n",
    "\n",
    "\n",
    "    # Start the main loop\n",
    "\n",
    "\n",
    "    # Update information when Show information button is clicked\n",
    "\n",
    "\n",
    "    # StringVar with name and address\n",
    "\n",
    "\n",
    "# Create instance of the name_and_address class\n",
    "\n"
   ]
  },
  {
   "cell_type": "code",
   "execution_count": null,
   "id": "08c5d422",
   "metadata": {},
   "outputs": [],
   "source": []
  }
 ],
 "metadata": {
  "kernelspec": {
   "display_name": "Python 3 (ipykernel)",
   "language": "python",
   "name": "python3"
  },
  "language_info": {
   "codemirror_mode": {
    "name": "ipython",
    "version": 3
   },
   "file_extension": ".py",
   "mimetype": "text/x-python",
   "name": "python",
   "nbconvert_exporter": "python",
   "pygments_lexer": "ipython3",
   "version": "3.11.4"
  }
 },
 "nbformat": 4,
 "nbformat_minor": 5
}
